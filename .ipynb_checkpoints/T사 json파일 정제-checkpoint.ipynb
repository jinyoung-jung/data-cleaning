{
 "cells": [
  {
   "cell_type": "markdown",
   "metadata": {},
   "source": [
    "## 모듈 실행"
   ]
  },
  {
   "cell_type": "code",
   "execution_count": 1,
   "metadata": {},
   "outputs": [],
   "source": [
    "import zipfile, os, json, time\n",
    "import pandas as pd"
   ]
  },
  {
   "cell_type": "markdown",
   "metadata": {},
   "source": [
    "## 압축푸는 함수"
   ]
  },
  {
   "cell_type": "code",
   "execution_count": 2,
   "metadata": {},
   "outputs": [],
   "source": [
    "def unzip(source_file, dest_path):\n",
    "    with zipfile.ZipFile(source_file, 'r') as zf:\n",
    "        zipInfo = zf.infolist()\n",
    "        for member in zipInfo:\n",
    "            try:\n",
    "                member.filename = member.filename.encode('cp437').decode('euc-kr', 'ignore')\n",
    "                zf.extract(member, dest_path)\n",
    "            except:\n",
    "                print(source_file)\n",
    "                raise Exception('what?!')"
   ]
  },
  {
   "cell_type": "markdown",
   "metadata": {},
   "source": [
    "## session table"
   ]
  },
  {
   "cell_type": "code",
   "execution_count": 3,
   "metadata": {},
   "outputs": [],
   "source": [
    "def sessionTable(json_data,file_list):\n",
    "    data = pd.DataFrame(columns = ['userId','sessionId','sessionDate','device','platform'])\n",
    "\n",
    "    for j in range(len(json_data.get('sessions'))):\n",
    "        userId = file_list.split('.')[0]+'_'+file_list.split('.')[1]\n",
    "        sessionId = json_data.get('sessions')[j].get('sessionId')\n",
    "        sessionDate = json_data.get('sessions')[j].get('sessionDate')\n",
    "        device = json_data.get('sessions')[j].get('deviceCategory')\n",
    "        platform = json_data.get('sessions')[j].get('platform')\n",
    "\n",
    "        part_data = pd.DataFrame([userId,sessionId,sessionDate,device,platform],\n",
    "                                  index = ['userId','sessionId','sessionDate','device','platform']).T\n",
    "        data = pd.concat([data,part_data])\n",
    "        data = data.reset_index().drop(['index'], axis=1)\n",
    "\n",
    "    return data"
   ]
  },
  {
   "cell_type": "markdown",
   "metadata": {},
   "source": [
    "## activity Table"
   ]
  },
  {
   "cell_type": "code",
   "execution_count": 4,
   "metadata": {},
   "outputs": [],
   "source": [
    "def activityTable(json_data,file_list):\n",
    "    data = pd.DataFrame(columns = ['userId','sessionId','transectionId','activityTime','source','medium','channelGrouping',\\\n",
    "                                   'campaign','keyword','hostname','landingPagePath','transectionRevenue'])\n",
    "\n",
    "    for j in range(len(json_data.get('sessions'))):\n",
    "        for z in range(len(json_data.get('sessions')[j].get('activities'))):\n",
    "\n",
    "            if (json_data.get('sessions')[j].get('activities')[z].get('activityType') == 'ECOMMERCE'):\n",
    "                if (json_data.get('sessions')[j].get('activities')[z].get('ecommerce').get('actionType') == 'PAYMENT'):\n",
    "                    userId = file_list.split('.')[0]+'_'+file_list.split('.')[1]\n",
    "                    sessionId = json_data.get('sessions')[j].get('sessionId')\n",
    "                    activityTime = json_data.get('sessions')[j].get('activities')[z].get('activityTime')\n",
    "                    source = json_data.get('sessions')[j].get('activities')[z].get('source')\n",
    "                    medium = json_data.get('sessions')[j].get('activities')[z].get('medium')\n",
    "                    channelGrouping = json_data.get('sessions')[j].get('activities')[z].get('channelGrouping')\n",
    "                    campaign = json_data.get('sessions')[j].get('activities')[z].get('campaign')\n",
    "                    keyword = json_data.get('sessions')[j].get('activities')[z].get('keyword')\n",
    "                    hostname = json_data.get('sessions')[j].get('activities')[z].get('hostname')\n",
    "                    landingPagePath = json_data.get('sessions')[j].get('activities')[z].get('landingPagePath')\n",
    "                    transectionId = json_data.get('sessions')[j].get('activities')[z].get('ecommerce').get('transaction').\\\n",
    "                    get('transactionId')\n",
    "                    transectionRevenue= json_data.get('sessions')[j].get('activities')[z].get('ecommerce').get('transaction').\\\n",
    "                    get('transactionRevenue')\n",
    "\n",
    "                    part_data = pd.DataFrame([userId,sessionId,transectionId,activityTime,source,medium,channelGrouping,\\\n",
    "                                              campaign,keyword,hostname,landingPagePath,transectionRevenue],\n",
    "                                              index = ['userId','sessionId','transectionId','activityTime','source','medium',\\\n",
    "                                                       'channelGrouping','campaign','keyword','hostname','landingPagePath',\\\n",
    "                                                       'transectionRevenue']).T\n",
    "\n",
    "                    data = pd.concat([data,part_data])\n",
    "                    data = data.reset_index().drop(['index'], axis=1)\n",
    "\n",
    "    return data"
   ]
  },
  {
   "cell_type": "markdown",
   "metadata": {},
   "source": [
    "## product table"
   ]
  },
  {
   "cell_type": "code",
   "execution_count": 5,
   "metadata": {},
   "outputs": [],
   "source": [
    "def productTable(json_data,file_list):\n",
    "    data = pd.DataFrame(columns = ['userId','sessionId','transectionId','productSku','productName','itemRevenue','productQuantity'])\n",
    "\n",
    "    for j in range(len(json_data.get('sessions'))):\n",
    "        for z in range(len(json_data.get('sessions')[j].get('activities'))):\n",
    "\n",
    "            if (json_data.get('sessions')[j].get('activities')[z].get('activityType') == 'ECOMMERCE'):\n",
    "                if (json_data.get('sessions')[j].get('activities')[z].get('ecommerce').get('actionType') == 'PAYMENT'):\n",
    "                    userId = file_list.split('.')[0]+'_'+file_list.split('.')[1]\n",
    "                    sessionId = json_data.get('sessions')[j].get('sessionId')\n",
    "                    transectionId = json_data.get('sessions')[j].get('activities')[z].get('ecommerce').get('transaction').\\\n",
    "                    get('transactionId')\n",
    "\n",
    "                    for p in range(len(json_data.get('sessions')[j].get('activities')[z].get('ecommerce').get('products'))):\n",
    "                        productSku = json_data.get('sessions')[j].get('activities')[z].get('ecommerce').get('products')[p].\\\n",
    "                        get('productSku')\n",
    "                        productName = json_data.get('sessions')[j].get('activities')[z].get('ecommerce').get('products')[p].\\\n",
    "                        get('productName')\n",
    "                        itemRevenue = json_data.get('sessions')[j].get('activities')[z].get('ecommerce').get('products')[p].\\\n",
    "                        get('itemRevenue')\n",
    "                        productQuantity = json_data.get('sessions')[j].get('activities')[z].get('ecommerce').get('products')[p].\\\n",
    "                        get('productQuantity')\n",
    "\n",
    "\n",
    "                        part_data = pd.DataFrame([userId,sessionId,transectionId,productSku,productName,itemRevenue,productQuantity],\n",
    "                                                  index = ['userId','sessionId','transectionId','productSku','productName',\\\n",
    "                                                           'itemRevenue','productQuantity']).T\n",
    "\n",
    "                        data = pd.concat([data,part_data])\n",
    "                        data = data.reset_index().drop(['index'], axis=1)\n",
    "\n",
    "    return data"
   ]
  },
  {
   "cell_type": "markdown",
   "metadata": {},
   "source": [
    "---"
   ]
  },
  {
   "cell_type": "markdown",
   "metadata": {},
   "source": [
    "## 데이터 로드"
   ]
  },
  {
   "cell_type": "markdown",
   "metadata": {},
   "source": [
    "### 1. JSON 압축풀기"
   ]
  },
  {
   "cell_type": "code",
   "execution_count": 6,
   "metadata": {},
   "outputs": [],
   "source": [
    "unzip('data/json_revenue.zip','data/json_revenue')"
   ]
  },
  {
   "cell_type": "markdown",
   "metadata": {},
   "source": [
    "### 2. 파일 리스트 생성 및 파일 수 확인"
   ]
  },
  {
   "cell_type": "code",
   "execution_count": 6,
   "metadata": {},
   "outputs": [
    {
     "data": {
      "text/plain": [
       "2226"
      ]
     },
     "execution_count": 6,
     "metadata": {},
     "output_type": "execute_result"
    }
   ],
   "source": [
    "path_dir = 'data/json_revenue/json'\n",
    "\n",
    "file_list = os.listdir(path_dir)\n",
    "\n",
    "len(file_list)"
   ]
  },
  {
   "cell_type": "markdown",
   "metadata": {},
   "source": [
    "### 3. 테이블 생성"
   ]
  },
  {
   "cell_type": "code",
   "execution_count": 8,
   "metadata": {},
   "outputs": [
    {
     "name": "stdout",
     "output_type": "stream",
     "text": [
      "time : 67.15347146987915\n"
     ]
    }
   ],
   "source": [
    "start = time.time()\n",
    "\n",
    "session_data = pd.DataFrame()\n",
    "activity_data = pd.DataFrame()\n",
    "product_data = pd.DataFrame()\n",
    "\n",
    "\n",
    "for i in range(0,len(file_list)):\n",
    "    input_file_name = path_dir+\"/\"+file_list[i]\n",
    "    with open(input_file_name, encoding='UTF8') as json_file:\n",
    "        json_data = json.load(json_file)\n",
    "    \n",
    "    data1 = sessionTable(json_data,file_list[i])\n",
    "    data2 = activityTable(json_data,file_list[i])\n",
    "    data3 = productTable(json_data,file_list[i])\n",
    "    \n",
    "    session_data = pd.concat([session_data,data1]).reset_index().drop(['index'], axis=1)\n",
    "    activity_data = pd.concat([activity_data,data2]).reset_index().drop(['index'], axis=1)\n",
    "    product_data = pd.concat([product_data,data3]).reset_index().drop(['index'], axis=1)\n",
    "    \n",
    "print(\"time :\", time.time() - start) "
   ]
  },
  {
   "cell_type": "markdown",
   "metadata": {},
   "source": [
    "### 4. 데이터 검토"
   ]
  },
  {
   "cell_type": "markdown",
   "metadata": {},
   "source": [
    "#### 1)세션 테이블"
   ]
  },
  {
   "cell_type": "code",
   "execution_count": 14,
   "metadata": {},
   "outputs": [
    {
     "name": "stdout",
     "output_type": "stream",
     "text": [
      "11888\n"
     ]
    },
    {
     "data": {
      "text/html": [
       "<div>\n",
       "<style scoped>\n",
       "    .dataframe tbody tr th:only-of-type {\n",
       "        vertical-align: middle;\n",
       "    }\n",
       "\n",
       "    .dataframe tbody tr th {\n",
       "        vertical-align: top;\n",
       "    }\n",
       "\n",
       "    .dataframe thead th {\n",
       "        text-align: right;\n",
       "    }\n",
       "</style>\n",
       "<table border=\"1\" class=\"dataframe\">\n",
       "  <thead>\n",
       "    <tr style=\"text-align: right;\">\n",
       "      <th></th>\n",
       "      <th>userId</th>\n",
       "      <th>sessionId</th>\n",
       "      <th>sessionDate</th>\n",
       "      <th>device</th>\n",
       "      <th>platform</th>\n",
       "    </tr>\n",
       "  </thead>\n",
       "  <tbody>\n",
       "    <tr>\n",
       "      <th>0</th>\n",
       "      <td>689679556_1578719054</td>\n",
       "      <td>1580440083</td>\n",
       "      <td>2020-01-31</td>\n",
       "      <td>desktop</td>\n",
       "      <td>Windows</td>\n",
       "    </tr>\n",
       "    <tr>\n",
       "      <th>1</th>\n",
       "      <td>689679556_1578719054</td>\n",
       "      <td>1580193439</td>\n",
       "      <td>2020-01-28</td>\n",
       "      <td>desktop</td>\n",
       "      <td>Windows</td>\n",
       "    </tr>\n",
       "    <tr>\n",
       "      <th>2</th>\n",
       "      <td>689679556_1578719054</td>\n",
       "      <td>1578719060</td>\n",
       "      <td>2020-01-11</td>\n",
       "      <td>desktop</td>\n",
       "      <td>Windows</td>\n",
       "    </tr>\n",
       "    <tr>\n",
       "      <th>3</th>\n",
       "      <td>689679556_1578719054</td>\n",
       "      <td>1578719056</td>\n",
       "      <td>2020-01-11</td>\n",
       "      <td>desktop</td>\n",
       "      <td>Windows</td>\n",
       "    </tr>\n",
       "    <tr>\n",
       "      <th>4</th>\n",
       "      <td>475325885_1578657870</td>\n",
       "      <td>1578833601</td>\n",
       "      <td>2020-01-12</td>\n",
       "      <td>mobile</td>\n",
       "      <td>iOS</td>\n",
       "    </tr>\n",
       "  </tbody>\n",
       "</table>\n",
       "</div>"
      ],
      "text/plain": [
       "                 userId   sessionId sessionDate   device platform\n",
       "0  689679556_1578719054  1580440083  2020-01-31  desktop  Windows\n",
       "1  689679556_1578719054  1580193439  2020-01-28  desktop  Windows\n",
       "2  689679556_1578719054  1578719060  2020-01-11  desktop  Windows\n",
       "3  689679556_1578719054  1578719056  2020-01-11  desktop  Windows\n",
       "4  475325885_1578657870  1578833601  2020-01-12   mobile      iOS"
      ]
     },
     "execution_count": 14,
     "metadata": {},
     "output_type": "execute_result"
    }
   ],
   "source": [
    "print(len(session_data))\n",
    "session_data.head()"
   ]
  },
  {
   "cell_type": "code",
   "execution_count": 15,
   "metadata": {},
   "outputs": [
    {
     "data": {
      "text/plain": [
       "1259415449_1574252717    112\n",
       "1256814883_1573715316    100\n",
       "408015221_1573683192      92\n",
       "1119202247_1573648860     75\n",
       "754256883_1573644374      75\n",
       "                        ... \n",
       "1451761988_1580441410      1\n",
       "1975203679_1578493245      1\n",
       "614331018_1578566750       1\n",
       "549938494_1579324565       1\n",
       "44630100_1579055070        1\n",
       "Name: userId, Length: 2226, dtype: int64"
      ]
     },
     "execution_count": 15,
     "metadata": {},
     "output_type": "execute_result"
    }
   ],
   "source": [
    "session_data['userId'].value_counts()"
   ]
  },
  {
   "cell_type": "code",
   "execution_count": 18,
   "metadata": {},
   "outputs": [
    {
     "data": {
      "text/plain": [
       "1580453359    2\n",
       "1579564216    2\n",
       "1579532302    2\n",
       "1578412603    2\n",
       "1580112019    2\n",
       "             ..\n",
       "1579686816    1\n",
       "1579124553    1\n",
       "1579795693    1\n",
       "1578718501    1\n",
       "1579854953    1\n",
       "Name: sessionId, Length: 11843, dtype: int64"
      ]
     },
     "execution_count": 18,
     "metadata": {},
     "output_type": "execute_result"
    }
   ],
   "source": [
    "session_data['sessionId'].value_counts()"
   ]
  },
  {
   "cell_type": "code",
   "execution_count": 27,
   "metadata": {},
   "outputs": [
    {
     "data": {
      "text/plain": [
       "2020-01-01    188\n",
       "2020-01-02    219\n",
       "2020-01-03    210\n",
       "2020-01-04    231\n",
       "2020-01-05    177\n",
       "2020-01-06    215\n",
       "2020-01-07    332\n",
       "2020-01-08    551\n",
       "2020-01-09    381\n",
       "2020-01-10    345\n",
       "2020-01-11    383\n",
       "2020-01-12    312\n",
       "2020-01-13    258\n",
       "2020-01-14    382\n",
       "2020-01-15    449\n",
       "2020-01-16    408\n",
       "2020-01-17    384\n",
       "2020-01-18    496\n",
       "2020-01-19    512\n",
       "2020-01-20    584\n",
       "2020-01-21    491\n",
       "2020-01-22    401\n",
       "2020-01-23    474\n",
       "2020-01-24    362\n",
       "2020-01-25    350\n",
       "2020-01-26    307\n",
       "2020-01-27    308\n",
       "2020-01-28    543\n",
       "2020-01-29    531\n",
       "2020-01-30    592\n",
       "2020-01-31    512\n",
       "Name: sessionDate, dtype: int64"
      ]
     },
     "execution_count": 27,
     "metadata": {},
     "output_type": "execute_result"
    }
   ],
   "source": [
    "session_data['sessionDate'].value_counts().sort_index()"
   ]
  },
  {
   "cell_type": "code",
   "execution_count": 28,
   "metadata": {},
   "outputs": [
    {
     "data": {
      "text/plain": [
       "mobile     11314\n",
       "desktop      546\n",
       "tablet        28\n",
       "Name: device, dtype: int64"
      ]
     },
     "execution_count": 28,
     "metadata": {},
     "output_type": "execute_result"
    }
   ],
   "source": [
    "session_data['device'].value_counts()"
   ]
  },
  {
   "cell_type": "code",
   "execution_count": 29,
   "metadata": {},
   "outputs": [
    {
     "data": {
      "text/plain": [
       "iOS           5994\n",
       "Android       5342\n",
       "Windows        522\n",
       "Macintosh       26\n",
       "BlackBerry       4\n",
       "Name: platform, dtype: int64"
      ]
     },
     "execution_count": 29,
     "metadata": {},
     "output_type": "execute_result"
    }
   ],
   "source": [
    "session_data['platform'].value_counts()"
   ]
  },
  {
   "cell_type": "markdown",
   "metadata": {},
   "source": [
    "#### 2) 활동 테이블"
   ]
  },
  {
   "cell_type": "code",
   "execution_count": 2,
   "metadata": {},
   "outputs": [],
   "source": [
    "print(len(activity_data))\n",
    "activity_data.head()\n",
    "# 정보 유출 문제로 생략"
   ]
  },
  {
   "cell_type": "code",
   "execution_count": 32,
   "metadata": {},
   "outputs": [
    {
     "data": {
      "text/plain": [
       "20200121-0000369     2\n",
       "Pay-1578720495668    2\n",
       "20200131-0000687     2\n",
       "Pay-1578194505484    1\n",
       "20200123-0000475     1\n",
       "                    ..\n",
       "Pay-1578455780110    1\n",
       "20200118-0000867     1\n",
       "20200129-0000096     1\n",
       "Pay-1578381404298    1\n",
       "20200105-0000421     1\n",
       "Name: transectionId, Length: 2603, dtype: int64"
      ]
     },
     "execution_count": 32,
     "metadata": {},
     "output_type": "execute_result"
    }
   ],
   "source": [
    "activity_data['transectionId'].value_counts()"
   ]
  },
  {
   "cell_type": "code",
   "execution_count": 33,
   "metadata": {},
   "outputs": [
    {
     "data": {
      "text/plain": [
       "naver                         1135\n",
       "facebook                       469\n",
       "(direct)                       447\n",
       "instagram.com                  291\n",
       "google                          74\n",
       "review6.cre.ma                  36\n",
       "facebook.com                    21\n",
       "m.shopping.naver.com            20\n",
       "IGShopping                      15\n",
       "castbox.shopping.naver.com      15\n",
       "m.pay.naver.com                 13\n",
       "m.naver.com                     10\n",
       "daum                             7\n",
       "m.blog.naver.com                 7\n",
       "naver.com                        7\n",
       "tmpl.co.kr                       6\n",
       "m.keep.naver.com                 6\n",
       "order.pay.naver.com              4\n",
       "cr2.shopping.naver.com           4\n",
       "m.cafe.naver.com                 3\n",
       "shopping.naver.com               2\n",
       "cafe.naver.com                   2\n",
       "cre.ma                           2\n",
       "m.tmpl.co.kr                     2\n",
       "pmon.navercorp.com               2\n",
       "mup.mobilians.co.kr              1\n",
       "bing                             1\n",
       "m.bookmark.naver.com             1\n",
       "ksmobile.inicis.com              1\n",
       "blog.naver.com                   1\n",
       "daum.net                         1\n",
       "Name: source, dtype: int64"
      ]
     },
     "execution_count": 33,
     "metadata": {},
     "output_type": "execute_result"
    }
   ],
   "source": [
    "activity_data['source'].value_counts()"
   ]
  },
  {
   "cell_type": "code",
   "execution_count": 34,
   "metadata": {},
   "outputs": [
    {
     "data": {
      "text/plain": [
       "cpc         644\n",
       "organic     573\n",
       "referral    458\n",
       "(none)      447\n",
       "social      378\n",
       "display      91\n",
       "Social       15\n",
       "Name: medium, dtype: int64"
      ]
     },
     "execution_count": 34,
     "metadata": {},
     "output_type": "execute_result"
    }
   ],
   "source": [
    "activity_data['medium'].value_counts()"
   ]
  },
  {
   "cell_type": "code",
   "execution_count": 35,
   "metadata": {},
   "outputs": [
    {
     "data": {
      "text/plain": [
       "Social            800\n",
       "Paid Search       633\n",
       "Organic Search    573\n",
       "Direct            447\n",
       "Display           102\n",
       "Referral           51\n",
       "Name: channelGrouping, dtype: int64"
      ]
     },
     "execution_count": 35,
     "metadata": {},
     "output_type": "execute_result"
    }
   ],
   "source": [
    "activity_data['channelGrouping'].value_counts()"
   ]
  },
  {
   "cell_type": "code",
   "execution_count": 38,
   "metadata": {},
   "outputs": [
    {
     "data": {
      "text/plain": [
       "m.tmpl.co.kr      2391\n",
       "tmpl.co.kr         204\n",
       "www.tmpl.co.kr      11\n",
       "Name: hostname, dtype: int64"
      ]
     },
     "execution_count": 38,
     "metadata": {},
     "output_type": "execute_result"
    }
   ],
   "source": [
    "activity_data['hostname'].value_counts()"
   ]
  },
  {
   "cell_type": "code",
   "execution_count": 39,
   "metadata": {},
   "outputs": [
    {
     "data": {
      "text/plain": [
       "count      2606\n",
       "unique      397\n",
       "top       50000\n",
       "freq        482\n",
       "Name: transectionRevenue, dtype: int64"
      ]
     },
     "execution_count": 39,
     "metadata": {},
     "output_type": "execute_result"
    }
   ],
   "source": [
    "activity_data['transectionRevenue'].describe()"
   ]
  },
  {
   "cell_type": "markdown",
   "metadata": {},
   "source": [
    "#### 3)제품 구매 테이블"
   ]
  },
  {
   "cell_type": "code",
   "execution_count": 1,
   "metadata": {},
   "outputs": [],
   "source": [
    "print(len(product_data))\n",
    "product_data.head()\n",
    "# 정보 유출 문제로 생략"
   ]
  },
  {
   "cell_type": "markdown",
   "metadata": {},
   "source": [
    "---"
   ]
  },
  {
   "cell_type": "markdown",
   "metadata": {},
   "source": [
    "## 저장"
   ]
  },
  {
   "cell_type": "code",
   "execution_count": 57,
   "metadata": {},
   "outputs": [],
   "source": [
    "session_data.to_excel('data/raw_data/raw_session_data.xlsx',index = False)\n",
    "activity_data.to_excel('data/raw_data/raw_activity_data.xlsx',index = False)\n",
    "product_data.to_excel('data/raw_data/raw_product_data.xlsx',index = False)"
   ]
  }
 ],
 "metadata": {
  "kernelspec": {
   "display_name": "Python 3",
   "language": "python",
   "name": "python3"
  },
  "language_info": {
   "codemirror_mode": {
    "name": "ipython",
    "version": 3
   },
   "file_extension": ".py",
   "mimetype": "text/x-python",
   "name": "python",
   "nbconvert_exporter": "python",
   "pygments_lexer": "ipython3",
   "version": "3.7.3"
  }
 },
 "nbformat": 4,
 "nbformat_minor": 2
}
