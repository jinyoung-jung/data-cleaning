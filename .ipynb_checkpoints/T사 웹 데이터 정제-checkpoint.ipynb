{
 "cells": [
  {
   "cell_type": "markdown",
   "metadata": {},
   "source": [
    "## 1.파일 로드"
   ]
  },
  {
   "cell_type": "code",
   "execution_count": 1,
   "metadata": {},
   "outputs": [],
   "source": [
    "import pandas as pd\n",
    "\n",
    "session = pd.read_excel('data/raw_data/raw_session_data.xlsx')\n",
    "activity = pd.read_excel('data/raw_data/raw_activity_data.xlsx')\n",
    "product = pd.read_excel('data/raw_data/raw_product_data.xlsx')"
   ]
  },
  {
   "cell_type": "markdown",
   "metadata": {},
   "source": [
    "## 2.세션 테이블 정제"
   ]
  },
  {
   "cell_type": "code",
   "execution_count": 2,
   "metadata": {},
   "outputs": [
    {
     "data": {
      "text/html": [
       "<div>\n",
       "<style scoped>\n",
       "    .dataframe tbody tr th:only-of-type {\n",
       "        vertical-align: middle;\n",
       "    }\n",
       "\n",
       "    .dataframe tbody tr th {\n",
       "        vertical-align: top;\n",
       "    }\n",
       "\n",
       "    .dataframe thead th {\n",
       "        text-align: right;\n",
       "    }\n",
       "</style>\n",
       "<table border=\"1\" class=\"dataframe\">\n",
       "  <thead>\n",
       "    <tr style=\"text-align: right;\">\n",
       "      <th></th>\n",
       "      <th>userId</th>\n",
       "      <th>sessionId</th>\n",
       "      <th>sessionDate</th>\n",
       "      <th>device</th>\n",
       "      <th>platform</th>\n",
       "    </tr>\n",
       "  </thead>\n",
       "  <tbody>\n",
       "    <tr>\n",
       "      <th>0</th>\n",
       "      <td>689679556_1578719054</td>\n",
       "      <td>1580440083</td>\n",
       "      <td>2020-01-31</td>\n",
       "      <td>desktop</td>\n",
       "      <td>Windows</td>\n",
       "    </tr>\n",
       "    <tr>\n",
       "      <th>1</th>\n",
       "      <td>689679556_1578719054</td>\n",
       "      <td>1580193439</td>\n",
       "      <td>2020-01-28</td>\n",
       "      <td>desktop</td>\n",
       "      <td>Windows</td>\n",
       "    </tr>\n",
       "    <tr>\n",
       "      <th>2</th>\n",
       "      <td>689679556_1578719054</td>\n",
       "      <td>1578719060</td>\n",
       "      <td>2020-01-11</td>\n",
       "      <td>desktop</td>\n",
       "      <td>Windows</td>\n",
       "    </tr>\n",
       "    <tr>\n",
       "      <th>3</th>\n",
       "      <td>689679556_1578719054</td>\n",
       "      <td>1578719056</td>\n",
       "      <td>2020-01-11</td>\n",
       "      <td>desktop</td>\n",
       "      <td>Windows</td>\n",
       "    </tr>\n",
       "    <tr>\n",
       "      <th>4</th>\n",
       "      <td>475325885_1578657870</td>\n",
       "      <td>1578833601</td>\n",
       "      <td>2020-01-12</td>\n",
       "      <td>mobile</td>\n",
       "      <td>iOS</td>\n",
       "    </tr>\n",
       "  </tbody>\n",
       "</table>\n",
       "</div>"
      ],
      "text/plain": [
       "                 userId   sessionId sessionDate   device platform\n",
       "0  689679556_1578719054  1580440083  2020-01-31  desktop  Windows\n",
       "1  689679556_1578719054  1580193439  2020-01-28  desktop  Windows\n",
       "2  689679556_1578719054  1578719060  2020-01-11  desktop  Windows\n",
       "3  689679556_1578719054  1578719056  2020-01-11  desktop  Windows\n",
       "4  475325885_1578657870  1578833601  2020-01-12   mobile      iOS"
      ]
     },
     "execution_count": 2,
     "metadata": {},
     "output_type": "execute_result"
    }
   ],
   "source": [
    "session.head()"
   ]
  },
  {
   "cell_type": "code",
   "execution_count": 3,
   "metadata": {},
   "outputs": [
    {
     "name": "stdout",
     "output_type": "stream",
     "text": [
      "<class 'pandas.core.frame.DataFrame'>\n",
      "RangeIndex: 11888 entries, 0 to 11887\n",
      "Data columns (total 5 columns):\n",
      "userId         11888 non-null object\n",
      "sessionId      11888 non-null int64\n",
      "sessionDate    11888 non-null object\n",
      "device         11888 non-null object\n",
      "platform       11888 non-null object\n",
      "dtypes: int64(1), object(4)\n",
      "memory usage: 464.5+ KB\n"
     ]
    }
   ],
   "source": [
    "session.info()"
   ]
  },
  {
   "cell_type": "markdown",
   "metadata": {},
   "source": [
    "### 1)sessionDate 날짜 타입으로 바꾸기"
   ]
  },
  {
   "cell_type": "code",
   "execution_count": 4,
   "metadata": {},
   "outputs": [],
   "source": [
    "session['sessionDate'] = pd.to_datetime(session['sessionDate'])"
   ]
  },
  {
   "cell_type": "code",
   "execution_count": 5,
   "metadata": {},
   "outputs": [
    {
     "name": "stdout",
     "output_type": "stream",
     "text": [
      "<class 'pandas.core.frame.DataFrame'>\n",
      "RangeIndex: 11888 entries, 0 to 11887\n",
      "Data columns (total 5 columns):\n",
      "userId         11888 non-null object\n",
      "sessionId      11888 non-null int64\n",
      "sessionDate    11888 non-null datetime64[ns]\n",
      "device         11888 non-null object\n",
      "platform       11888 non-null object\n",
      "dtypes: datetime64[ns](1), int64(1), object(3)\n",
      "memory usage: 464.5+ KB\n"
     ]
    }
   ],
   "source": [
    "session.info()"
   ]
  },
  {
   "cell_type": "markdown",
   "metadata": {},
   "source": [
    "## 2. 활동 테이블"
   ]
  },
  {
   "cell_type": "markdown",
   "metadata": {},
   "source": [
    "### 1)transectionId 형식 통일"
   ]
  },
  {
   "cell_type": "code",
   "execution_count": 6,
   "metadata": {},
   "outputs": [
    {
     "data": {
      "text/plain": [
       "20200121-0000369     2\n",
       "20200131-0000687     2\n",
       "Pay-1578720495668    2\n",
       "Pay-1579829922452    1\n",
       "20200128-0000108     1\n",
       "                    ..\n",
       "20200114-0000091     1\n",
       "20200130-0000083     1\n",
       "Pay-1579435190193    1\n",
       "20200128-0000196     1\n",
       "20200124-0000675     1\n",
       "Name: transectionId, Length: 2603, dtype: int64"
      ]
     },
     "execution_count": 6,
     "metadata": {},
     "output_type": "execute_result"
    }
   ],
   "source": [
    "activity['transectionId'].value_counts()"
   ]
  },
  {
   "cell_type": "markdown",
   "metadata": {},
   "source": [
    "아직까지 구분점을 찾지 못했음. 일단 진행"
   ]
  },
  {
   "cell_type": "markdown",
   "metadata": {},
   "source": [
    "### 2)activity Time 형식 변경"
   ]
  },
  {
   "cell_type": "code",
   "execution_count": 9,
   "metadata": {},
   "outputs": [],
   "source": [
    "def extract_activityTime(data):\n",
    "    \n",
    "    if pd.isnull(data):\n",
    "        return data\n",
    "    \n",
    "    else:\n",
    "        \n",
    "        tmp_data = data.split('.')[0]\n",
    "        result = tmp_data.split('T')\n",
    "        result = result[0] + ' ' + result[1]\n",
    "        \n",
    "    return result"
   ]
  },
  {
   "cell_type": "code",
   "execution_count": 10,
   "metadata": {},
   "outputs": [],
   "source": [
    "activity['activityTime'] = activity['activityTime'].apply(extract_activityTime)"
   ]
  },
  {
   "cell_type": "code",
   "execution_count": 11,
   "metadata": {},
   "outputs": [
    {
     "data": {
      "text/plain": [
       "0   2020-01-11 14:28:15\n",
       "1   2020-01-10 21:11:15\n",
       "2   2020-01-08 02:03:36\n",
       "3   2020-01-26 09:18:25\n",
       "4   2020-01-30 18:51:18\n",
       "Name: activityTime, dtype: datetime64[ns]"
      ]
     },
     "execution_count": 11,
     "metadata": {},
     "output_type": "execute_result"
    }
   ],
   "source": [
    "activity['activityTime'] = pd.to_datetime(activity['activityTime'])\n",
    "\n",
    "activity['activityTime'].head()"
   ]
  },
  {
   "cell_type": "markdown",
   "metadata": {},
   "source": [
    "### 3)source 범주 통일"
   ]
  },
  {
   "cell_type": "code",
   "execution_count": 12,
   "metadata": {},
   "outputs": [
    {
     "data": {
      "text/plain": [
       "naver                         1135\n",
       "facebook                       469\n",
       "(direct)                       447\n",
       "instagram.com                  291\n",
       "google                          74\n",
       "review6.cre.ma                  36\n",
       "facebook.com                    21\n",
       "m.shopping.naver.com            20\n",
       "castbox.shopping.naver.com      15\n",
       "IGShopping                      15\n",
       "m.pay.naver.com                 13\n",
       "m.naver.com                     10\n",
       "naver.com                        7\n",
       "m.blog.naver.com                 7\n",
       "daum                             7\n",
       "m.keep.naver.com                 6\n",
       "tmpl.co.kr                       6\n",
       "cr2.shopping.naver.com           4\n",
       "order.pay.naver.com              4\n",
       "m.cafe.naver.com                 3\n",
       "pmon.navercorp.com               2\n",
       "shopping.naver.com               2\n",
       "cre.ma                           2\n",
       "cafe.naver.com                   2\n",
       "m.tmpl.co.kr                     2\n",
       "m.bookmark.naver.com             1\n",
       "daum.net                         1\n",
       "ksmobile.inicis.com              1\n",
       "mup.mobilians.co.kr              1\n",
       "bing                             1\n",
       "blog.naver.com                   1\n",
       "Name: source, dtype: int64"
      ]
     },
     "execution_count": 12,
     "metadata": {},
     "output_type": "execute_result"
    }
   ],
   "source": [
    "activity['source'].value_counts()"
   ]
  },
  {
   "cell_type": "markdown",
   "metadata": {},
   "source": [
    "- naver\n",
    "- facebook\n",
    "- direct\n",
    "- instagram: igshopping 포함\n",
    "- google\n",
    "- crema: 크리마 사이트(cre.ma)\n",
    "- tmpl: 자사 홈피\n",
    "- daum\n",
    "- etc: bing, 확인불명 사이트 등등"
   ]
  },
  {
   "cell_type": "code",
   "execution_count": 13,
   "metadata": {},
   "outputs": [],
   "source": [
    "def clean_source(source):\n",
    "    if pd.isnull(source):\n",
    "        return np.nan\n",
    "    \n",
    "    if 'naver' in source:\n",
    "        return 'naver'\n",
    "    elif 'facebook' in source:\n",
    "        return 'facebook'\n",
    "    elif 'direct' in source:\n",
    "        return 'direct'\n",
    "    elif 'instagram' in source:\n",
    "        return 'instagram'\n",
    "    elif 'IGshopping' in source:\n",
    "        return 'instagram'\n",
    "    elif 'google' in source:\n",
    "        return 'google'\n",
    "    elif 'cre.ma' in source:\n",
    "        return 'crema'\n",
    "    elif 'tmpl' in source:\n",
    "        return 'tmpl'\n",
    "    elif 'daum' in source:\n",
    "        return 'daum'\n",
    "    else:\n",
    "        return 'etc'"
   ]
  },
  {
   "cell_type": "code",
   "execution_count": 14,
   "metadata": {},
   "outputs": [
    {
     "data": {
      "text/plain": [
       "naver        1232\n",
       "facebook      490\n",
       "direct        447\n",
       "instagram     291\n",
       "google         74\n",
       "crema          38\n",
       "etc            18\n",
       "daum            8\n",
       "tmpl            8\n",
       "Name: source, dtype: int64"
      ]
     },
     "execution_count": 14,
     "metadata": {},
     "output_type": "execute_result"
    }
   ],
   "source": [
    "activity['source'] = activity['source'].apply(clean_source)\n",
    "\n",
    "activity['source'].value_counts()"
   ]
  },
  {
   "cell_type": "markdown",
   "metadata": {},
   "source": [
    "### 4)medium 범주 통일"
   ]
  },
  {
   "cell_type": "code",
   "execution_count": 15,
   "metadata": {},
   "outputs": [
    {
     "data": {
      "text/plain": [
       "cpc         644\n",
       "organic     573\n",
       "referral    458\n",
       "(none)      447\n",
       "social      378\n",
       "display      91\n",
       "Social       15\n",
       "Name: medium, dtype: int64"
      ]
     },
     "execution_count": 15,
     "metadata": {},
     "output_type": "execute_result"
    }
   ],
   "source": [
    "activity['medium'].value_counts()"
   ]
  },
  {
   "cell_type": "code",
   "execution_count": 16,
   "metadata": {},
   "outputs": [
    {
     "data": {
      "text/plain": [
       "cpc         644\n",
       "organic     573\n",
       "referral    458\n",
       "(none)      447\n",
       "social      393\n",
       "display      91\n",
       "Name: medium, dtype: int64"
      ]
     },
     "execution_count": 16,
     "metadata": {},
     "output_type": "execute_result"
    }
   ],
   "source": [
    "activity['medium'] = activity['medium'].str.lower()\n",
    "activity['medium'].value_counts()"
   ]
  },
  {
   "cell_type": "markdown",
   "metadata": {},
   "source": [
    "### 5)transectionRevenue 타입 변경"
   ]
  },
  {
   "cell_type": "code",
   "execution_count": 17,
   "metadata": {},
   "outputs": [
    {
     "name": "stdout",
     "output_type": "stream",
     "text": [
      "<class 'pandas.core.frame.DataFrame'>\n",
      "RangeIndex: 2606 entries, 0 to 2605\n",
      "Data columns (total 12 columns):\n",
      "userId                2606 non-null object\n",
      "sessionId             2606 non-null int64\n",
      "transectionId         2606 non-null object\n",
      "activityTime          2606 non-null datetime64[ns]\n",
      "source                2606 non-null object\n",
      "medium                2606 non-null object\n",
      "channelGrouping       2606 non-null object\n",
      "campaign              2606 non-null object\n",
      "keyword               2606 non-null object\n",
      "hostname              2606 non-null object\n",
      "landingPagePath       2606 non-null object\n",
      "transectionRevenue    2606 non-null int64\n",
      "dtypes: datetime64[ns](1), int64(2), object(9)\n",
      "memory usage: 244.4+ KB\n"
     ]
    }
   ],
   "source": [
    "activity['transectionRevenue'] = pd.to_numeric(activity['transectionRevenue'])\n",
    "\n",
    "activity.info()"
   ]
  },
  {
   "cell_type": "markdown",
   "metadata": {},
   "source": [
    "## 3. 저장"
   ]
  },
  {
   "cell_type": "code",
   "execution_count": 37,
   "metadata": {},
   "outputs": [],
   "source": [
    "session.to_excel('data/raw_data/session_data_v1.xlsx',index = False)\n",
    "activity.to_excel('data/raw_data/activity_data_v1.xlsx',index = False)"
   ]
  }
 ],
 "metadata": {
  "kernelspec": {
   "display_name": "Python 3",
   "language": "python",
   "name": "python3"
  },
  "language_info": {
   "codemirror_mode": {
    "name": "ipython",
    "version": 3
   },
   "file_extension": ".py",
   "mimetype": "text/x-python",
   "name": "python",
   "nbconvert_exporter": "python",
   "pygments_lexer": "ipython3",
   "version": "3.7.3"
  }
 },
 "nbformat": 4,
 "nbformat_minor": 2
}
