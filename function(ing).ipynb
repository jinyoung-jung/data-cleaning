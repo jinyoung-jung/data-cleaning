{
 "cells": [
  {
   "cell_type": "markdown",
   "metadata": {},
   "source": [
    "**<함수 종류>**\n",
    "\n",
    "1. 압축 풀기\n",
    "- 폴더에 있는 파일 합치기\n"
   ]
  },
  {
   "cell_type": "markdown",
   "metadata": {},
   "source": [
    "**1.압출 풀기**"
   ]
  },
  {
   "cell_type": "code",
   "execution_count": null,
   "metadata": {},
   "outputs": [],
   "source": [
    "def unzip(source_file, dest_path):\n",
    "    with zipfile.ZipFile(source_file, 'r') as zf:\n",
    "        zipInfo = zf.infolist()\n",
    "        for member in zipInfo:\n",
    "            try:\n",
    "                member.filename = member.filename.encode('cp437').decode('euc-kr', 'ignore')\n",
    "                zf.extract(member, dest_path)\n",
    "            except:\n",
    "                print(source_file)\n",
    "                raise Exception('what?!')"
   ]
  },
  {
   "cell_type": "markdown",
   "metadata": {},
   "source": [
    "**2.폴더에 있는 파일 합치기**"
   ]
  },
  {
   "cell_type": "code",
   "execution_count": null,
   "metadata": {},
   "outputs": [],
   "source": [
    "## 파일 로드 함수\n",
    "def folder_load(path_dir):\n",
    "    file_list = os.listdir(path_dir)\n",
    "    data = pd.DataFrame()\n",
    "\n",
    "    for i in range(len(file_list)):\n",
    "        filename = path_dir+\"/\"+file_list[i]\n",
    "        try:\n",
    "            file = pd.read_csv(filename, error_bad_lines=False, engine = 'python', warn_bad_lines=False, encoding= 'utf-8')\n",
    "            file['filename'] = file_list[i]\n",
    "\n",
    "            data = pd.concat([data,file], sort = True)\n",
    "        except:\n",
    "            print(\"error file_name:\"+file_list[i]+str(i))\n",
    "\n",
    "    data = data.reset_index().drop(['index'], axis=1)\n",
    "    return data"
   ]
  },
  {
   "cell_type": "code",
   "execution_count": null,
   "metadata": {},
   "outputs": [],
   "source": []
  },
  {
   "cell_type": "code",
   "execution_count": null,
   "metadata": {},
   "outputs": [],
   "source": []
  }
 ],
 "metadata": {
  "kernelspec": {
   "display_name": "Python 3",
   "language": "python",
   "name": "python3"
  },
  "language_info": {
   "codemirror_mode": {
    "name": "ipython",
    "version": 3
   },
   "file_extension": ".py",
   "mimetype": "text/x-python",
   "name": "python",
   "nbconvert_exporter": "python",
   "pygments_lexer": "ipython3",
   "version": "3.7.3"
  }
 },
 "nbformat": 4,
 "nbformat_minor": 2
}
